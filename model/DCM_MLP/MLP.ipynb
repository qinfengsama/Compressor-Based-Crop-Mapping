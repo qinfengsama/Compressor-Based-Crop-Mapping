{
 "cells": [
  {
   "cell_type": "code",
   "execution_count": null,
   "id": "7035dfd7-f942-457c-97cc-b8a3ff9f1cf6",
   "metadata": {
    "scrolled": true
   },
   "outputs": [],
   "source": [
    "import os\n",
    "import numpy as np\n",
    "import random\n",
    "import copy\n",
    "from sklearn.neural_network import MLPClassifier\n",
    "from sklearn.metrics import accuracy_score, cohen_kappa_score, confusion_matrix\n",
    "\n",
    "def getTrainTest(label, trainNum):\n",
    "    random.seed(32)\n",
    "    testGt = copy.deepcopy(label)\n",
    "    trainGt = np.zeros(label.shape)\n",
    "    labelNum = int(max(label.ravel())) + 1\n",
    "    for lab in range(1, labelNum):\n",
    "        labIndex = np.where(label == lab)\n",
    "        randomList = random.sample(range(0, len(labIndex[0])), int(len(labIndex[0])*trainNum))\n",
    "        for randInt in randomList:\n",
    "            x = labIndex[0][randInt]\n",
    "            y = labIndex[1][randInt]\n",
    "            trainGt[x][y] = lab\n",
    "            testGt[x][y] = 0\n",
    "    trainGt = trainGt.astype(int)\n",
    "    testGt = testGt.astype(int)\n",
    "    return trainGt, testGt\n",
    "\n",
    "datasets = ['t32ulu']\n",
    "ratios = [0.5]\n",
    "\n",
    "for dataset in datasets:\n",
    "    for ratio in ratios:\n",
    "        select_gt = np.load(f'/home/aistudio/npys/{dataset}/select_gt.npy').astype(int)\n",
    "        select_rs = np.load(f'/home/aistudio/npys/{dataset}/select_rs.npy')[:,:,:7]\n",
    "\n",
    "        train_gt, test_gt = getTrainTest(select_gt, ratio)\n",
    "\n",
    "        H, W, C, T = select_rs.shape\n",
    "        data = select_rs.reshape((-1, C*T))\n",
    "        train_labels = train_gt.flatten()\n",
    "        test_labels = test_gt.flatten()\n",
    "\n",
    "        train_data = data[train_labels != 0, :]\n",
    "        train_labels = train_labels[train_labels != 0] - 1\n",
    "        test_data = data[test_labels != 0, :]\n",
    "        test_labels = test_labels[test_labels != 0] - 1\n",
    "\n",
    "        model_mlp = MLPClassifier(hidden_layer_sizes=(100,), max_iter=500)\n",
    "        model_mlp.fit(train_data, train_labels)\n",
    "\n",
    "        pred_labels_mlp = model_mlp.predict(test_data)\n",
    "        oa_mlp = accuracy_score(test_labels, pred_labels_mlp)\n",
    "        kappa_mlp = cohen_kappa_score(test_labels, pred_labels_mlp)\n",
    "        cm_mlp = confusion_matrix(test_labels, pred_labels_mlp)\n",
    "        class_accuracy_mlp = cm_mlp.diagonal() / cm_mlp.sum(axis=1)\n",
    "        aa_mlp = np.mean(class_accuracy_mlp)\n",
    "        miou_mlp = np.mean(np.diag(cm_mlp) / (cm_mlp.sum(axis=1) + cm_mlp.sum(axis=0) - np.diag(cm_mlp)))\n",
    "\n",
    "        output_path = f'/home/aistudio/MLP/{dataset}/{ratio}'\n",
    "        if not os.path.exists(output_path):\n",
    "            os.makedirs(output_path)\n",
    "\n",
    "        with open(f'{output_path}/evaluation_metric_mlp.txt', 'w', encoding='utf-8') as f:\n",
    "            f.write(f\"整体精度 (OA): {oa_mlp}\\n\")\n",
    "            f.write(f\"平均交并比 (MIoU): {miou_mlp}\\n\")\n",
    "            f.write(\"训练参数：\\n\")\n",
    "            f.write(str(model_mlp.get_params()))\n",
    "\n",
    "        print(f\"完成数据集 {dataset} 与比例 {ratio} 的MLP处理。\")"
   ]
  },
  {
   "cell_type": "code",
   "execution_count": 1,
   "id": "246d5dbf-bacb-4f5c-8632-fb8b89ddb6d1",
   "metadata": {
    "execution": {
     "iopub.execute_input": "2024-03-17T03:09:45.317816Z",
     "iopub.status.busy": "2024-03-17T03:09:45.317310Z",
     "iopub.status.idle": "2024-03-17T03:10:14.697022Z",
     "shell.execute_reply": "2024-03-17T03:10:14.695471Z",
     "shell.execute_reply.started": "2024-03-17T03:09:45.317780Z"
    },
    "scrolled": true
   },
   "outputs": [
    {
     "name": "stdout",
     "output_type": "stream",
     "text": [
      "Looking in indexes: https://mirror.baidu.com/pypi/simple/, https://mirrors.aliyun.com/pypi/simple/\r\n",
      "Collecting xgboost\r\n",
      "  Downloading https://mirrors.aliyun.com/pypi/packages/c3/eb/496aa2f5d356af4185f770bc76055307f8d1870e11016b10fd779b21769c/xgboost-2.0.3-py3-none-manylinux2014_x86_64.whl (297.1 MB)\r\n",
      "\u001b[2K     \u001b[90m━━━━━━━━━━━━━━━━━━━━━━━━━━━━━━━━━━━━━━━\u001b[0m \u001b[32m297.1/297.1 MB\u001b[0m \u001b[31m3.6 MB/s\u001b[0m eta \u001b[36m0:00:00\u001b[0m00:01\u001b[0m00:01\u001b[0m\r\n",
      "\u001b[?25hRequirement already satisfied: numpy in /opt/conda/envs/python35-paddle120-env/lib/python3.10/site-packages (from xgboost) (1.26.2)\r\n",
      "Requirement already satisfied: scipy in /opt/conda/envs/python35-paddle120-env/lib/python3.10/site-packages (from xgboost) (1.11.4)\r\n",
      "Installing collected packages: xgboost\r\n",
      "Successfully installed xgboost-2.0.3\r\n",
      "Note: you may need to restart the kernel to use updated packages.\r\n"
     ]
    }
   ],
   "source": [
    "pip install xgboost"
   ]
  },
  {
   "cell_type": "code",
   "execution_count": 13,
   "id": "c1007a0c-7139-4740-9953-59ac506ccb95",
   "metadata": {
    "execution": {
     "iopub.execute_input": "2024-03-17T03:16:29.938674Z",
     "iopub.status.busy": "2024-03-17T03:16:29.937729Z",
     "iopub.status.idle": "2024-03-17T03:16:30.280966Z",
     "shell.execute_reply": "2024-03-17T03:16:30.279949Z",
     "shell.execute_reply.started": "2024-03-17T03:16:29.938636Z"
    },
    "scrolled": true,
    "tags": []
   },
   "outputs": [
    {
     "name": "stdout",
     "output_type": "stream",
     "text": [
      "完成数据集 t31tfj 与比例 0.5 的处理。\r\n"
     ]
    }
   ],
   "source": [
    "import os\r\n",
    "import numpy as np\r\n",
    "import random\r\n",
    "import copy\r\n",
    "import xgboost as xgb\r\n",
    "from sklearn.metrics import accuracy_score, cohen_kappa_score, confusion_matrix\r\n",
    "\r\n",
    "def getTrainTest(label, trainNum):\r\n",
    "    random.seed(32)\r\n",
    "    testGt = copy.deepcopy(label)\r\n",
    "    trainGt = np.zeros(label.shape)\r\n",
    "    labelNum = int(max(label.ravel())) + 1\r\n",
    "    for lab in range(1, labelNum):\r\n",
    "        labIndex = np.where(label == lab)\r\n",
    "        randomList = random.sample(range(0, len(labIndex[0])), int(len(labIndex[0])*trainNum))\r\n",
    "        for randInt in randomList:\r\n",
    "            x = labIndex[0][randInt]\r\n",
    "            y = labIndex[1][randInt]\r\n",
    "            trainGt[x][y] = lab\r\n",
    "            testGt[x][y] = 0\r\n",
    "    trainGt = trainGt.astype(int)\r\n",
    "    testGt = testGt.astype(int)\r\n",
    "    return trainGt, testGt\r\n",
    "\r\n",
    "datasets = ['t31tfj']\r\n",
    "ratios = [0.5]\r\n",
    "\r\n",
    "for dataset in datasets:\r\n",
    "    for ratio in ratios:\r\n",
    "        select_gt = np.load(f'/home/aistudio/npys/{dataset}/select_gt.npy').astype(int)\r\n",
    "        select_rs = np.load(f'/home/aistudio/npys/{dataset}/select_rs.npy')[:,:,:5]\r\n",
    "\r\n",
    "        train_gt, test_gt = getTrainTest(select_gt, ratio)\r\n",
    "\r\n",
    "        H, W, C, T = select_rs.shape\r\n",
    "        data = select_rs.reshape((-1, C*T))\r\n",
    "        train_labels = train_gt.flatten()\r\n",
    "        test_labels = test_gt.flatten()\r\n",
    "\r\n",
    "        train_data = data[train_labels != 0, :]\r\n",
    "        train_labels = train_labels[train_labels != 0] - 1\r\n",
    "        test_data = data[test_labels != 0, :]\r\n",
    "        test_labels = test_labels[test_labels != 0] - 1\r\n",
    "\r\n",
    "        model_xgb = xgb.XGBClassifier(n_estimators=1, use_label_encoder=False, eval_metric='mlogloss')\r\n",
    "        model_xgb.fit(train_data, train_labels)\r\n",
    "\r\n",
    "        pred_labels_xgb = model_xgb.predict(test_data)\r\n",
    "        oa_xgb = accuracy_score(test_labels, pred_labels_xgb)\r\n",
    "        kappa_xgb = cohen_kappa_score(test_labels, pred_labels_xgb)\r\n",
    "        cm_xgb = confusion_matrix(test_labels, pred_labels_xgb)\r\n",
    "        class_accuracy_xgb = cm_xgb.diagonal() / cm_xgb.sum(axis=1)\r\n",
    "        aa_xgb = np.mean(class_accuracy_xgb)\r\n",
    "        miou_xgb = np.mean(np.diag(cm_xgb) / (cm_xgb.sum(axis=1) + cm_xgb.sum(axis=0) - np.diag(cm_xgb)))\r\n",
    "\r\n",
    "        output_path = f'/home/aistudio/XGB/{dataset}/{ratio}'\r\n",
    "        if not os.path.exists(output_path):\r\n",
    "            os.makedirs(output_path)\r\n",
    "\r\n",
    "        with open(f'{output_path}/evaluation_metric_xgb.txt', 'w', encoding='utf-8') as f:\r\n",
    "            f.write(f\"整体精度 (OA): {oa_xgb}\\n\")\r\n",
    "            f.write(f\"平均交并比 (MIoU): {miou_xgb}\\n\")\r\n",
    "            f.write(\"训练参数：\\n\")\r\n",
    "            f.write(str(model_xgb.get_params()))\r\n",
    "\r\n",
    "        print(f\"完成数据集 {dataset} 与比例 {ratio} 的处理。\")"
   ]
  },
  {
   "cell_type": "code",
   "execution_count": null,
   "id": "2b2ca330-6f01-43c7-8673-f283a2f209d2",
   "metadata": {
    "scrolled": true
   },
   "outputs": [],
   "source": []
  }
 ],
 "metadata": {
  "kernelspec": {
   "display_name": "Python 3",
   "language": "python",
   "name": "py35-paddle1.2.0"
  },
  "language_info": {
   "codemirror_mode": {
    "name": "ipython",
    "version": 3
   },
   "file_extension": ".py",
   "mimetype": "text/x-python",
   "name": "python",
   "nbconvert_exporter": "python",
   "pygments_lexer": "ipython3",
   "version": "3.10.10"
  }
 },
 "nbformat": 4,
 "nbformat_minor": 5
}
